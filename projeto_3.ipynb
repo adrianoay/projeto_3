{
 "cells": [
  {
   "cell_type": "code",
   "execution_count": 1,
   "metadata": {
    "ExecuteTime": {
     "end_time": "2020-11-16T05:57:54.129945Z",
     "start_time": "2020-11-16T05:57:53.237070Z"
    }
   },
   "outputs": [],
   "source": [
    "import requests\n",
    "import pandas as pd\n",
    "import sqlalchemy as db"
   ]
  },
  {
   "cell_type": "code",
   "execution_count": 64,
   "metadata": {
    "ExecuteTime": {
     "end_time": "2020-11-16T06:27:21.101442Z",
     "start_time": "2020-11-16T06:27:21.087142Z"
    }
   },
   "outputs": [],
   "source": [
    "class Imdb():\n",
    "    \n",
    "    def __init__(self):\n",
    "        print('Criação para buscar lista dos filmes mais bem avaliados')\n",
    "    \n",
    "    def imdb(self):\n",
    "        '''Criando a conexão através de API do site da Imdb, criando a tabela e editando'''\n",
    "        \n",
    "        response = requests.get('https://imdb-api.com/en/API/Top250Movies/k_4sz5q6a8')\n",
    "        response.json()\n",
    "        response.json().keys()\n",
    "        results = response.json()\n",
    "        df = pd.json_normalize(response.json(),'items')\n",
    "        df.columns = ['ID', 'RANK', 'TITULO', 'TITULO COMPLETO', 'ANO DE LANÇAMENTO', 'IMAGEM', 'DIRETORs', 'NOTA DO PUBLICO', 'NUMERO DE VOTOS']\n",
    "        df = df.drop(columns=['IMAGEM'])\n",
    "        new = df[\"DIRETORs\"].str.split(\"(\", n = 1, expand = True)\n",
    "        df[\"DIRETOR\"]= new[0]\n",
    "        new = df[\"DIRETORs\"].str.split(\",\", n = 1, expand = True)\n",
    "        df[\"ELENCO\"]= new[1]\n",
    "        df = df.drop(columns=['DIRETORs'])\n",
    "        new = df[\"ID\"].str.split('tt', n = 1, expand = True)\n",
    "        df = df.drop(columns=['ID'])\n",
    "        df['ID'] = new[1]\n",
    "        df['ID'] = pd.to_numeric(df['ID'])\n",
    "        df['ANO DE LANÇAMENTO'] = pd.to_numeric(df['ANO DE LANÇAMENTO'])\n",
    "        df['NOTA DO PUBLICO'] = pd.to_numeric(df['NOTA DO PUBLICO'])\n",
    "        df['RANK'] = pd.to_numeric(df['RANK'])\n",
    "        df = df[['ID', 'RANK', 'TITULO', 'TITULO COMPLETO', 'ANO DE LANÇAMENTO', 'DIRETOR', 'ELENCO', 'NOTA DO PUBLICO', 'NUMERO DE VOTOS']]\n",
    "        df['NUMERO DE VOTOS'] = pd.to_numeric(df['NUMERO DE VOTOS'])\n",
    "        df['MEDIA DE VOTOS']=(df['NUMERO DE VOTOS']/df['NUMERO DE VOTOS'].sum())*100\n",
    "\n",
    "        return df"
   ]
  },
  {
   "cell_type": "code",
   "execution_count": 65,
   "metadata": {
    "ExecuteTime": {
     "end_time": "2020-11-16T06:27:22.269394Z",
     "start_time": "2020-11-16T06:27:22.265448Z"
    }
   },
   "outputs": [
    {
     "name": "stdout",
     "output_type": "stream",
     "text": [
      "Criação para buscar lista dos filmes mais bem avaliados\n"
     ]
    }
   ],
   "source": [
    "df = Imdb()"
   ]
  },
  {
   "cell_type": "code",
   "execution_count": 66,
   "metadata": {
    "ExecuteTime": {
     "end_time": "2020-11-16T06:27:28.741703Z",
     "start_time": "2020-11-16T06:27:27.066287Z"
    }
   },
   "outputs": [],
   "source": [
    "df = df.imdb()"
   ]
  },
  {
   "cell_type": "code",
   "execution_count": 67,
   "metadata": {
    "ExecuteTime": {
     "end_time": "2020-11-16T06:27:28.956903Z",
     "start_time": "2020-11-16T06:27:28.921483Z"
    }
   },
   "outputs": [
    {
     "data": {
      "text/html": [
       "<div>\n",
       "<style scoped>\n",
       "    .dataframe tbody tr th:only-of-type {\n",
       "        vertical-align: middle;\n",
       "    }\n",
       "\n",
       "    .dataframe tbody tr th {\n",
       "        vertical-align: top;\n",
       "    }\n",
       "\n",
       "    .dataframe thead th {\n",
       "        text-align: right;\n",
       "    }\n",
       "</style>\n",
       "<table border=\"1\" class=\"dataframe\">\n",
       "  <thead>\n",
       "    <tr style=\"text-align: right;\">\n",
       "      <th></th>\n",
       "      <th>ID</th>\n",
       "      <th>RANK</th>\n",
       "      <th>TITULO</th>\n",
       "      <th>TITULO COMPLETO</th>\n",
       "      <th>ANO DE LANÇAMENTO</th>\n",
       "      <th>DIRETOR</th>\n",
       "      <th>ELENCO</th>\n",
       "      <th>NOTA DO PUBLICO</th>\n",
       "      <th>NUMERO DE VOTOS</th>\n",
       "      <th>MEDIA DE VOTOS</th>\n",
       "    </tr>\n",
       "  </thead>\n",
       "  <tbody>\n",
       "    <tr>\n",
       "      <th>0</th>\n",
       "      <td>111161</td>\n",
       "      <td>1</td>\n",
       "      <td>The Shawshank Redemption</td>\n",
       "      <td>The Shawshank Redemption (1994)</td>\n",
       "      <td>1994</td>\n",
       "      <td>Frank Darabont</td>\n",
       "      <td>Tim Robbins, Morgan Freeman</td>\n",
       "      <td>9.2</td>\n",
       "      <td>2305958</td>\n",
       "      <td>1.723839</td>\n",
       "    </tr>\n",
       "    <tr>\n",
       "      <th>1</th>\n",
       "      <td>68646</td>\n",
       "      <td>2</td>\n",
       "      <td>The Godfather</td>\n",
       "      <td>The Godfather (1972)</td>\n",
       "      <td>1972</td>\n",
       "      <td>Francis Ford Coppola</td>\n",
       "      <td>Marlon Brando, Al Pacino</td>\n",
       "      <td>9.1</td>\n",
       "      <td>1591434</td>\n",
       "      <td>1.189691</td>\n",
       "    </tr>\n",
       "    <tr>\n",
       "      <th>2</th>\n",
       "      <td>71562</td>\n",
       "      <td>3</td>\n",
       "      <td>The Godfather: Part II</td>\n",
       "      <td>The Godfather: Part II (1974)</td>\n",
       "      <td>1974</td>\n",
       "      <td>Francis Ford Coppola</td>\n",
       "      <td>Al Pacino, Robert De Niro</td>\n",
       "      <td>9.0</td>\n",
       "      <td>1111857</td>\n",
       "      <td>0.831179</td>\n",
       "    </tr>\n",
       "    <tr>\n",
       "      <th>3</th>\n",
       "      <td>468569</td>\n",
       "      <td>4</td>\n",
       "      <td>The Dark Knight</td>\n",
       "      <td>The Dark Knight (2008)</td>\n",
       "      <td>2008</td>\n",
       "      <td>Christopher Nolan</td>\n",
       "      <td>Christian Bale, Heath Ledger</td>\n",
       "      <td>9.0</td>\n",
       "      <td>2269138</td>\n",
       "      <td>1.696314</td>\n",
       "    </tr>\n",
       "    <tr>\n",
       "      <th>4</th>\n",
       "      <td>50083</td>\n",
       "      <td>5</td>\n",
       "      <td>12 Angry Men</td>\n",
       "      <td>12 Angry Men (1957)</td>\n",
       "      <td>1957</td>\n",
       "      <td>Sidney Lumet</td>\n",
       "      <td>Henry Fonda, Lee J. Cobb</td>\n",
       "      <td>8.9</td>\n",
       "      <td>677818</td>\n",
       "      <td>0.506709</td>\n",
       "    </tr>\n",
       "    <tr>\n",
       "      <th>...</th>\n",
       "      <td>...</td>\n",
       "      <td>...</td>\n",
       "      <td>...</td>\n",
       "      <td>...</td>\n",
       "      <td>...</td>\n",
       "      <td>...</td>\n",
       "      <td>...</td>\n",
       "      <td>...</td>\n",
       "      <td>...</td>\n",
       "      <td>...</td>\n",
       "    </tr>\n",
       "    <tr>\n",
       "      <th>245</th>\n",
       "      <td>58946</td>\n",
       "      <td>246</td>\n",
       "      <td>The Battle of Algiers</td>\n",
       "      <td>The Battle of Algiers (1966)</td>\n",
       "      <td>1966</td>\n",
       "      <td>Gillo Pontecorvo</td>\n",
       "      <td>Brahim Hadjadj, Jean Martin</td>\n",
       "      <td>8.0</td>\n",
       "      <td>52037</td>\n",
       "      <td>0.038901</td>\n",
       "    </tr>\n",
       "    <tr>\n",
       "      <th>246</th>\n",
       "      <td>88247</td>\n",
       "      <td>247</td>\n",
       "      <td>The Terminator</td>\n",
       "      <td>The Terminator (1984)</td>\n",
       "      <td>1984</td>\n",
       "      <td>James Cameron</td>\n",
       "      <td>Arnold Schwarzenegger, Linda Hamilton</td>\n",
       "      <td>8.0</td>\n",
       "      <td>792074</td>\n",
       "      <td>0.592122</td>\n",
       "    </tr>\n",
       "    <tr>\n",
       "      <th>247</th>\n",
       "      <td>2991224</td>\n",
       "      <td>248</td>\n",
       "      <td>Tangerines</td>\n",
       "      <td>Tangerines (2013)</td>\n",
       "      <td>2013</td>\n",
       "      <td>Zaza Urushadze</td>\n",
       "      <td>Lembit Ulfsak, Elmo Nüganen</td>\n",
       "      <td>8.0</td>\n",
       "      <td>38672</td>\n",
       "      <td>0.028910</td>\n",
       "    </tr>\n",
       "    <tr>\n",
       "      <th>248</th>\n",
       "      <td>103639</td>\n",
       "      <td>249</td>\n",
       "      <td>Aladdin</td>\n",
       "      <td>Aladdin (1992)</td>\n",
       "      <td>1992</td>\n",
       "      <td>Ron Clements</td>\n",
       "      <td>Scott Weinger, Robin Williams</td>\n",
       "      <td>8.0</td>\n",
       "      <td>369495</td>\n",
       "      <td>0.276219</td>\n",
       "    </tr>\n",
       "    <tr>\n",
       "      <th>249</th>\n",
       "      <td>2758880</td>\n",
       "      <td>250</td>\n",
       "      <td>Winter Sleep</td>\n",
       "      <td>Winter Sleep (2014)</td>\n",
       "      <td>2014</td>\n",
       "      <td>Nuri Bilge Ceylan</td>\n",
       "      <td>Haluk Bilginer, Melisa Sözen</td>\n",
       "      <td>8.0</td>\n",
       "      <td>44792</td>\n",
       "      <td>0.033485</td>\n",
       "    </tr>\n",
       "  </tbody>\n",
       "</table>\n",
       "<p>250 rows × 10 columns</p>\n",
       "</div>"
      ],
      "text/plain": [
       "          ID  RANK                    TITULO                  TITULO COMPLETO  \\\n",
       "0     111161     1  The Shawshank Redemption  The Shawshank Redemption (1994)   \n",
       "1      68646     2             The Godfather             The Godfather (1972)   \n",
       "2      71562     3    The Godfather: Part II    The Godfather: Part II (1974)   \n",
       "3     468569     4           The Dark Knight           The Dark Knight (2008)   \n",
       "4      50083     5              12 Angry Men              12 Angry Men (1957)   \n",
       "..       ...   ...                       ...                              ...   \n",
       "245    58946   246     The Battle of Algiers     The Battle of Algiers (1966)   \n",
       "246    88247   247            The Terminator            The Terminator (1984)   \n",
       "247  2991224   248                Tangerines                Tangerines (2013)   \n",
       "248   103639   249                   Aladdin                   Aladdin (1992)   \n",
       "249  2758880   250              Winter Sleep              Winter Sleep (2014)   \n",
       "\n",
       "     ANO DE LANÇAMENTO                DIRETOR  \\\n",
       "0                 1994        Frank Darabont    \n",
       "1                 1972  Francis Ford Coppola    \n",
       "2                 1974  Francis Ford Coppola    \n",
       "3                 2008     Christopher Nolan    \n",
       "4                 1957          Sidney Lumet    \n",
       "..                 ...                    ...   \n",
       "245               1966      Gillo Pontecorvo    \n",
       "246               1984         James Cameron    \n",
       "247               2013        Zaza Urushadze    \n",
       "248               1992          Ron Clements    \n",
       "249               2014     Nuri Bilge Ceylan    \n",
       "\n",
       "                                     ELENCO  NOTA DO PUBLICO  NUMERO DE VOTOS  \\\n",
       "0               Tim Robbins, Morgan Freeman              9.2          2305958   \n",
       "1                  Marlon Brando, Al Pacino              9.1          1591434   \n",
       "2                 Al Pacino, Robert De Niro              9.0          1111857   \n",
       "3              Christian Bale, Heath Ledger              9.0          2269138   \n",
       "4                  Henry Fonda, Lee J. Cobb              8.9           677818   \n",
       "..                                      ...              ...              ...   \n",
       "245             Brahim Hadjadj, Jean Martin              8.0            52037   \n",
       "246   Arnold Schwarzenegger, Linda Hamilton              8.0           792074   \n",
       "247             Lembit Ulfsak, Elmo Nüganen              8.0            38672   \n",
       "248           Scott Weinger, Robin Williams              8.0           369495   \n",
       "249            Haluk Bilginer, Melisa Sözen              8.0            44792   \n",
       "\n",
       "     MEDIA DE VOTOS  \n",
       "0          1.723839  \n",
       "1          1.189691  \n",
       "2          0.831179  \n",
       "3          1.696314  \n",
       "4          0.506709  \n",
       "..              ...  \n",
       "245        0.038901  \n",
       "246        0.592122  \n",
       "247        0.028910  \n",
       "248        0.276219  \n",
       "249        0.033485  \n",
       "\n",
       "[250 rows x 10 columns]"
      ]
     },
     "execution_count": 67,
     "metadata": {},
     "output_type": "execute_result"
    }
   ],
   "source": [
    "df"
   ]
  },
  {
   "cell_type": "code",
   "execution_count": 68,
   "metadata": {
    "ExecuteTime": {
     "end_time": "2020-11-16T06:27:40.014912Z",
     "start_time": "2020-11-16T06:27:40.008222Z"
    }
   },
   "outputs": [],
   "source": [
    "class bd():\n",
    "    \n",
    "    def __init__(self):\n",
    "        print('Criando conexão com o banco de dados')\n",
    "    \n",
    "    def conectado(self):\n",
    "        db_server = 'postgresql'\n",
    "        user = 'postgres'\n",
    "        password = 'admin'\n",
    "        ip = 'localhost'\n",
    "        db_name = 'melhores_filmes'\n",
    "        engine = db.create_engine(f'{db_server}://{user}:{password}@{ip}/{db_name}')\n",
    "        conn = engine.connect()\n",
    "        return conn"
   ]
  },
  {
   "cell_type": "code",
   "execution_count": 69,
   "metadata": {
    "ExecuteTime": {
     "end_time": "2020-11-16T06:27:40.917350Z",
     "start_time": "2020-11-16T06:27:40.912094Z"
    }
   },
   "outputs": [
    {
     "name": "stdout",
     "output_type": "stream",
     "text": [
      "Criando conexão com o banco de dados\n"
     ]
    }
   ],
   "source": [
    "conn = bd()"
   ]
  },
  {
   "cell_type": "code",
   "execution_count": 70,
   "metadata": {
    "ExecuteTime": {
     "end_time": "2020-11-16T06:27:42.076686Z",
     "start_time": "2020-11-16T06:27:42.055666Z"
    }
   },
   "outputs": [],
   "source": [
    "conn = conn.conectado()"
   ]
  },
  {
   "cell_type": "code",
   "execution_count": 71,
   "metadata": {
    "ExecuteTime": {
     "end_time": "2020-11-16T06:27:44.963748Z",
     "start_time": "2020-11-16T06:27:44.864582Z"
    }
   },
   "outputs": [],
   "source": [
    "df.to_sql(name='lista_de_filmes', con=conn, if_exists='replace', index=False )"
   ]
  },
  {
   "cell_type": "code",
   "execution_count": null,
   "metadata": {},
   "outputs": [],
   "source": []
  }
 ],
 "metadata": {
  "kernelspec": {
   "display_name": "Python 3",
   "language": "python",
   "name": "python3"
  },
  "language_info": {
   "codemirror_mode": {
    "name": "ipython",
    "version": 3
   },
   "file_extension": ".py",
   "mimetype": "text/x-python",
   "name": "python",
   "nbconvert_exporter": "python",
   "pygments_lexer": "ipython3",
   "version": "3.8.3"
  },
  "toc": {
   "base_numbering": 1,
   "nav_menu": {},
   "number_sections": true,
   "sideBar": true,
   "skip_h1_title": false,
   "title_cell": "Table of Contents",
   "title_sidebar": "Contents",
   "toc_cell": false,
   "toc_position": {},
   "toc_section_display": true,
   "toc_window_display": false
  },
  "varInspector": {
   "cols": {
    "lenName": 16,
    "lenType": 16,
    "lenVar": 40
   },
   "kernels_config": {
    "python": {
     "delete_cmd_postfix": "",
     "delete_cmd_prefix": "del ",
     "library": "var_list.py",
     "varRefreshCmd": "print(var_dic_list())"
    },
    "r": {
     "delete_cmd_postfix": ") ",
     "delete_cmd_prefix": "rm(",
     "library": "var_list.r",
     "varRefreshCmd": "cat(var_dic_list()) "
    }
   },
   "types_to_exclude": [
    "module",
    "function",
    "builtin_function_or_method",
    "instance",
    "_Feature"
   ],
   "window_display": false
  }
 },
 "nbformat": 4,
 "nbformat_minor": 4
}
