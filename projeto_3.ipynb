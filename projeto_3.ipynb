{
 "cells": [
  {
   "cell_type": "markdown",
   "metadata": {},
   "source": [
    "# Importando as Bibliotecas"
   ]
  },
  {
   "cell_type": "code",
   "execution_count": 3,
   "metadata": {
    "ExecuteTime": {
     "end_time": "2020-11-22T04:19:29.608061Z",
     "start_time": "2020-11-22T04:19:29.602189Z"
    }
   },
   "outputs": [],
   "source": [
    "import requests\n",
    "import pandas as pd\n",
    "import sqlalchemy as db\n",
    "from dotenv import load_dotenv, find_dotenv\n",
    "import os"
   ]
  },
  {
   "cell_type": "markdown",
   "metadata": {},
   "source": [
    "# Ocultando o Serial da API e senha do BD pelo DOTENV"
   ]
  },
  {
   "cell_type": "code",
   "execution_count": 118,
   "metadata": {
    "ExecuteTime": {
     "end_time": "2020-11-22T05:05:33.170142Z",
     "start_time": "2020-11-22T05:05:33.162974Z"
    }
   },
   "outputs": [
    {
     "data": {
      "text/plain": [
       "True"
      ]
     },
     "execution_count": 118,
     "metadata": {},
     "output_type": "execute_result"
    }
   ],
   "source": [
    "load_dotenv('keys.env')"
   ]
  },
  {
   "cell_type": "code",
   "execution_count": 9,
   "metadata": {
    "ExecuteTime": {
     "end_time": "2020-11-22T04:23:26.765322Z",
     "start_time": "2020-11-22T04:23:26.761199Z"
    }
   },
   "outputs": [],
   "source": [
    "API_KEY = os.getenv('API_KEY')"
   ]
  },
  {
   "cell_type": "code",
   "execution_count": 129,
   "metadata": {
    "ExecuteTime": {
     "end_time": "2020-11-22T05:07:48.857606Z",
     "start_time": "2020-11-22T05:07:48.853888Z"
    }
   },
   "outputs": [],
   "source": [
    "usuario = os.getenv('usuario')"
   ]
  },
  {
   "cell_type": "code",
   "execution_count": 130,
   "metadata": {
    "ExecuteTime": {
     "end_time": "2020-11-22T05:07:49.971110Z",
     "start_time": "2020-11-22T05:07:49.967030Z"
    }
   },
   "outputs": [],
   "source": [
    "senha = os.getenv('senha')"
   ]
  },
  {
   "cell_type": "markdown",
   "metadata": {},
   "source": [
    "# Criando a Classe de Web API e Retornando o DataFrame"
   ]
  },
  {
   "cell_type": "code",
   "execution_count": 138,
   "metadata": {
    "ExecuteTime": {
     "end_time": "2020-11-22T05:11:15.567358Z",
     "start_time": "2020-11-22T05:11:15.561540Z"
    }
   },
   "outputs": [],
   "source": [
    "class Imdb():\n",
    "    \n",
    "    def __init__(self):\n",
    "        print('Criação para buscar lista dos filmes mais bem avaliados')\n",
    "    \n",
    "    def imdb(self):\n",
    "        '''Criando a conexão através de API do site da Imdb, criando a tabela e editando'''\n",
    "        \n",
    "        response = requests.get(f'https://imdb-api.com/en/API/Top250Movies/{API_KEY}')\n",
    "        response.json()\n",
    "        response.json().keys()\n",
    "        results = response.json()\n",
    "        df = pd.json_normalize(response.json(),'items')\n",
    "\n",
    "        return df"
   ]
  },
  {
   "cell_type": "markdown",
   "metadata": {},
   "source": [
    "# Trazendo o DataFrame para a Variável df"
   ]
  },
  {
   "cell_type": "code",
   "execution_count": 139,
   "metadata": {
    "ExecuteTime": {
     "end_time": "2020-11-22T05:11:16.794050Z",
     "start_time": "2020-11-22T05:11:16.788386Z"
    }
   },
   "outputs": [
    {
     "name": "stdout",
     "output_type": "stream",
     "text": [
      "Criação para buscar lista dos filmes mais bem avaliados\n"
     ]
    }
   ],
   "source": [
    "df = Imdb()"
   ]
  },
  {
   "cell_type": "code",
   "execution_count": 140,
   "metadata": {
    "ExecuteTime": {
     "end_time": "2020-11-22T05:11:18.775750Z",
     "start_time": "2020-11-22T05:11:17.608654Z"
    }
   },
   "outputs": [],
   "source": [
    "df = df.imdb()"
   ]
  },
  {
   "cell_type": "markdown",
   "metadata": {},
   "source": [
    "# Manipulando e Modificando o DataFrame"
   ]
  },
  {
   "cell_type": "code",
   "execution_count": 143,
   "metadata": {
    "ExecuteTime": {
     "end_time": "2020-11-22T05:12:44.096431Z",
     "start_time": "2020-11-22T05:12:44.064024Z"
    }
   },
   "outputs": [],
   "source": [
    "df.columns = ['ID', 'RANK', 'TITULO', 'TITULO COMPLETO', 'ANO DE LANÇAMENTO', 'IMAGEM', 'DIRETORs', 'NOTA DO PUBLICO', 'NUMERO DE VOTOS']\n",
    "df = df.drop(columns=['IMAGEM'])\n",
    "new = df[\"DIRETORs\"].str.split(\"(\", n = 1, expand = True)\n",
    "df[\"DIRETOR\"]= new[0]\n",
    "new = df[\"DIRETORs\"].str.split(\",\", n = 1, expand = True)\n",
    "df[\"ELENCO\"]= new[1]\n",
    "df = df.drop(columns=['DIRETORs'])\n",
    "new = df[\"ID\"].str.split('tt', n = 1, expand = True)\n",
    "df = df.drop(columns=['ID'])\n",
    "df['ID'] = new[1]\n",
    "df['ID'] = pd.to_numeric(df['ID'])\n",
    "df['ANO DE LANÇAMENTO'] = pd.to_numeric(df['ANO DE LANÇAMENTO'])\n",
    "df['NOTA DO PUBLICO'] = pd.to_numeric(df['NOTA DO PUBLICO'])\n",
    "df['RANK'] = pd.to_numeric(df['RANK'])\n",
    "df = df[['ID', 'RANK', 'TITULO', 'TITULO COMPLETO', 'ANO DE LANÇAMENTO', 'DIRETOR', 'ELENCO', 'NOTA DO PUBLICO', 'NUMERO DE VOTOS']]\n",
    "df['NUMERO DE VOTOS'] = pd.to_numeric(df['NUMERO DE VOTOS'])\n",
    "df['MEDIA DE VOTOS']=(df['NUMERO DE VOTOS']/df['NUMERO DE VOTOS'].sum())*100"
   ]
  },
  {
   "cell_type": "code",
   "execution_count": 144,
   "metadata": {
    "ExecuteTime": {
     "end_time": "2020-11-22T05:12:56.609091Z",
     "start_time": "2020-11-22T05:12:56.581496Z"
    }
   },
   "outputs": [
    {
     "data": {
      "text/html": [
       "<div>\n",
       "<style scoped>\n",
       "    .dataframe tbody tr th:only-of-type {\n",
       "        vertical-align: middle;\n",
       "    }\n",
       "\n",
       "    .dataframe tbody tr th {\n",
       "        vertical-align: top;\n",
       "    }\n",
       "\n",
       "    .dataframe thead th {\n",
       "        text-align: right;\n",
       "    }\n",
       "</style>\n",
       "<table border=\"1\" class=\"dataframe\">\n",
       "  <thead>\n",
       "    <tr style=\"text-align: right;\">\n",
       "      <th></th>\n",
       "      <th>ID</th>\n",
       "      <th>RANK</th>\n",
       "      <th>TITULO</th>\n",
       "      <th>TITULO COMPLETO</th>\n",
       "      <th>ANO DE LANÇAMENTO</th>\n",
       "      <th>DIRETOR</th>\n",
       "      <th>ELENCO</th>\n",
       "      <th>NOTA DO PUBLICO</th>\n",
       "      <th>NUMERO DE VOTOS</th>\n",
       "      <th>MEDIA DE VOTOS</th>\n",
       "    </tr>\n",
       "  </thead>\n",
       "  <tbody>\n",
       "    <tr>\n",
       "      <th>0</th>\n",
       "      <td>111161</td>\n",
       "      <td>1</td>\n",
       "      <td>The Shawshank Redemption</td>\n",
       "      <td>The Shawshank Redemption (1994)</td>\n",
       "      <td>1994</td>\n",
       "      <td>Frank Darabont</td>\n",
       "      <td>Tim Robbins, Morgan Freeman</td>\n",
       "      <td>9.2</td>\n",
       "      <td>2308369</td>\n",
       "      <td>1.727911</td>\n",
       "    </tr>\n",
       "    <tr>\n",
       "      <th>1</th>\n",
       "      <td>68646</td>\n",
       "      <td>2</td>\n",
       "      <td>The Godfather</td>\n",
       "      <td>The Godfather (1972)</td>\n",
       "      <td>1972</td>\n",
       "      <td>Francis Ford Coppola</td>\n",
       "      <td>Marlon Brando, Al Pacino</td>\n",
       "      <td>9.1</td>\n",
       "      <td>1593151</td>\n",
       "      <td>1.192541</td>\n",
       "    </tr>\n",
       "    <tr>\n",
       "      <th>2</th>\n",
       "      <td>71562</td>\n",
       "      <td>3</td>\n",
       "      <td>The Godfather: Part II</td>\n",
       "      <td>The Godfather: Part II (1974)</td>\n",
       "      <td>1974</td>\n",
       "      <td>Francis Ford Coppola</td>\n",
       "      <td>Al Pacino, Robert De Niro</td>\n",
       "      <td>9.0</td>\n",
       "      <td>1113012</td>\n",
       "      <td>0.833136</td>\n",
       "    </tr>\n",
       "    <tr>\n",
       "      <th>3</th>\n",
       "      <td>468569</td>\n",
       "      <td>4</td>\n",
       "      <td>The Dark Knight</td>\n",
       "      <td>The Dark Knight (2008)</td>\n",
       "      <td>2008</td>\n",
       "      <td>Christopher Nolan</td>\n",
       "      <td>Christian Bale, Heath Ledger</td>\n",
       "      <td>9.0</td>\n",
       "      <td>2271307</td>\n",
       "      <td>1.700169</td>\n",
       "    </tr>\n",
       "    <tr>\n",
       "      <th>4</th>\n",
       "      <td>50083</td>\n",
       "      <td>5</td>\n",
       "      <td>12 Angry Men</td>\n",
       "      <td>12 Angry Men (1957)</td>\n",
       "      <td>1957</td>\n",
       "      <td>Sidney Lumet</td>\n",
       "      <td>Henry Fonda, Lee J. Cobb</td>\n",
       "      <td>8.9</td>\n",
       "      <td>678646</td>\n",
       "      <td>0.507995</td>\n",
       "    </tr>\n",
       "    <tr>\n",
       "      <th>...</th>\n",
       "      <td>...</td>\n",
       "      <td>...</td>\n",
       "      <td>...</td>\n",
       "      <td>...</td>\n",
       "      <td>...</td>\n",
       "      <td>...</td>\n",
       "      <td>...</td>\n",
       "      <td>...</td>\n",
       "      <td>...</td>\n",
       "      <td>...</td>\n",
       "    </tr>\n",
       "    <tr>\n",
       "      <th>245</th>\n",
       "      <td>58946</td>\n",
       "      <td>246</td>\n",
       "      <td>The Battle of Algiers</td>\n",
       "      <td>The Battle of Algiers (1966)</td>\n",
       "      <td>1966</td>\n",
       "      <td>Gillo Pontecorvo</td>\n",
       "      <td>Brahim Hadjadj, Jean Martin</td>\n",
       "      <td>8.0</td>\n",
       "      <td>52094</td>\n",
       "      <td>0.038995</td>\n",
       "    </tr>\n",
       "    <tr>\n",
       "      <th>246</th>\n",
       "      <td>88247</td>\n",
       "      <td>247</td>\n",
       "      <td>The Terminator</td>\n",
       "      <td>The Terminator (1984)</td>\n",
       "      <td>1984</td>\n",
       "      <td>James Cameron</td>\n",
       "      <td>Arnold Schwarzenegger, Linda Hamilton</td>\n",
       "      <td>8.0</td>\n",
       "      <td>792690</td>\n",
       "      <td>0.593362</td>\n",
       "    </tr>\n",
       "    <tr>\n",
       "      <th>247</th>\n",
       "      <td>2991224</td>\n",
       "      <td>248</td>\n",
       "      <td>Tangerines</td>\n",
       "      <td>Tangerines (2013)</td>\n",
       "      <td>2013</td>\n",
       "      <td>Zaza Urushadze</td>\n",
       "      <td>Lembit Ulfsak, Elmo Nüganen</td>\n",
       "      <td>8.0</td>\n",
       "      <td>38774</td>\n",
       "      <td>0.029024</td>\n",
       "    </tr>\n",
       "    <tr>\n",
       "      <th>248</th>\n",
       "      <td>2758880</td>\n",
       "      <td>249</td>\n",
       "      <td>Winter Sleep</td>\n",
       "      <td>Winter Sleep (2014)</td>\n",
       "      <td>2014</td>\n",
       "      <td>Nuri Bilge Ceylan</td>\n",
       "      <td>Haluk Bilginer, Melisa Sözen</td>\n",
       "      <td>8.0</td>\n",
       "      <td>44926</td>\n",
       "      <td>0.033629</td>\n",
       "    </tr>\n",
       "    <tr>\n",
       "      <th>249</th>\n",
       "      <td>5323662</td>\n",
       "      <td>250</td>\n",
       "      <td>A Silent Voice: The Movie</td>\n",
       "      <td>A Silent Voice: The Movie (2016)</td>\n",
       "      <td>2016</td>\n",
       "      <td>Naoko Yamada</td>\n",
       "      <td>Miyu Irino, Saori Hayami</td>\n",
       "      <td>8.0</td>\n",
       "      <td>44129</td>\n",
       "      <td>0.033032</td>\n",
       "    </tr>\n",
       "  </tbody>\n",
       "</table>\n",
       "<p>250 rows × 10 columns</p>\n",
       "</div>"
      ],
      "text/plain": [
       "          ID  RANK                     TITULO  \\\n",
       "0     111161     1   The Shawshank Redemption   \n",
       "1      68646     2              The Godfather   \n",
       "2      71562     3     The Godfather: Part II   \n",
       "3     468569     4            The Dark Knight   \n",
       "4      50083     5               12 Angry Men   \n",
       "..       ...   ...                        ...   \n",
       "245    58946   246      The Battle of Algiers   \n",
       "246    88247   247             The Terminator   \n",
       "247  2991224   248                 Tangerines   \n",
       "248  2758880   249               Winter Sleep   \n",
       "249  5323662   250  A Silent Voice: The Movie   \n",
       "\n",
       "                      TITULO COMPLETO  ANO DE LANÇAMENTO  \\\n",
       "0     The Shawshank Redemption (1994)               1994   \n",
       "1                The Godfather (1972)               1972   \n",
       "2       The Godfather: Part II (1974)               1974   \n",
       "3              The Dark Knight (2008)               2008   \n",
       "4                 12 Angry Men (1957)               1957   \n",
       "..                                ...                ...   \n",
       "245      The Battle of Algiers (1966)               1966   \n",
       "246             The Terminator (1984)               1984   \n",
       "247                 Tangerines (2013)               2013   \n",
       "248               Winter Sleep (2014)               2014   \n",
       "249  A Silent Voice: The Movie (2016)               2016   \n",
       "\n",
       "                   DIRETOR                                  ELENCO  \\\n",
       "0          Frank Darabont              Tim Robbins, Morgan Freeman   \n",
       "1    Francis Ford Coppola                 Marlon Brando, Al Pacino   \n",
       "2    Francis Ford Coppola                Al Pacino, Robert De Niro   \n",
       "3       Christopher Nolan             Christian Bale, Heath Ledger   \n",
       "4            Sidney Lumet                 Henry Fonda, Lee J. Cobb   \n",
       "..                     ...                                     ...   \n",
       "245      Gillo Pontecorvo              Brahim Hadjadj, Jean Martin   \n",
       "246         James Cameron    Arnold Schwarzenegger, Linda Hamilton   \n",
       "247        Zaza Urushadze              Lembit Ulfsak, Elmo Nüganen   \n",
       "248     Nuri Bilge Ceylan             Haluk Bilginer, Melisa Sözen   \n",
       "249          Naoko Yamada                 Miyu Irino, Saori Hayami   \n",
       "\n",
       "     NOTA DO PUBLICO  NUMERO DE VOTOS  MEDIA DE VOTOS  \n",
       "0                9.2          2308369        1.727911  \n",
       "1                9.1          1593151        1.192541  \n",
       "2                9.0          1113012        0.833136  \n",
       "3                9.0          2271307        1.700169  \n",
       "4                8.9           678646        0.507995  \n",
       "..               ...              ...             ...  \n",
       "245              8.0            52094        0.038995  \n",
       "246              8.0           792690        0.593362  \n",
       "247              8.0            38774        0.029024  \n",
       "248              8.0            44926        0.033629  \n",
       "249              8.0            44129        0.033032  \n",
       "\n",
       "[250 rows x 10 columns]"
      ]
     },
     "execution_count": 144,
     "metadata": {},
     "output_type": "execute_result"
    }
   ],
   "source": [
    "df"
   ]
  },
  {
   "cell_type": "markdown",
   "metadata": {},
   "source": [
    "# Criando a conexão com o BD"
   ]
  },
  {
   "cell_type": "code",
   "execution_count": 131,
   "metadata": {
    "ExecuteTime": {
     "end_time": "2020-11-22T05:08:09.451616Z",
     "start_time": "2020-11-22T05:08:09.442895Z"
    }
   },
   "outputs": [],
   "source": [
    "class bd():\n",
    "\n",
    "    def __init__(self):\n",
    "        print('Criando conexão com o banco de dados')\n",
    "    \n",
    "    def conectado(self):\n",
    "        db_server = 'postgresql'\n",
    "        user = f'{usuario}'\n",
    "        password = f'{senha}'\n",
    "        ip = 'localhost'\n",
    "        db_name = 'melhores_filmes'\n",
    "        engine = db.create_engine(f'{db_server}://{user}:{password}@{ip}/{db_name}')\n",
    "        conn = engine.connect()\n",
    "        return conn"
   ]
  },
  {
   "cell_type": "markdown",
   "metadata": {},
   "source": [
    "# Exportando o DataFrame para o BD"
   ]
  },
  {
   "cell_type": "code",
   "execution_count": 132,
   "metadata": {
    "ExecuteTime": {
     "end_time": "2020-11-22T05:08:11.047784Z",
     "start_time": "2020-11-22T05:08:11.043426Z"
    }
   },
   "outputs": [
    {
     "name": "stdout",
     "output_type": "stream",
     "text": [
      "Criando conexão com o banco de dados\n"
     ]
    }
   ],
   "source": [
    "conn = bd()"
   ]
  },
  {
   "cell_type": "code",
   "execution_count": 133,
   "metadata": {
    "ExecuteTime": {
     "end_time": "2020-11-22T05:08:12.058039Z",
     "start_time": "2020-11-22T05:08:12.032941Z"
    }
   },
   "outputs": [],
   "source": [
    "conn = conn.conectado()"
   ]
  },
  {
   "cell_type": "code",
   "execution_count": 134,
   "metadata": {
    "ExecuteTime": {
     "end_time": "2020-11-22T05:08:13.736398Z",
     "start_time": "2020-11-22T05:08:13.564719Z"
    }
   },
   "outputs": [],
   "source": [
    "df.to_sql(name='lista_de_filmes', con=conn, if_exists='replace', index=False )"
   ]
  },
  {
   "cell_type": "markdown",
   "metadata": {},
   "source": [
    "# Transformando o DataFrame em .CSV"
   ]
  },
  {
   "cell_type": "code",
   "execution_count": 8,
   "metadata": {
    "ExecuteTime": {
     "end_time": "2020-11-19T01:38:59.545289Z",
     "start_time": "2020-11-19T01:38:59.535797Z"
    }
   },
   "outputs": [],
   "source": [
    "df.to_csv('/Users/adrianoyoshizawa/Documents/GitHub/projeto_3/data/melhores_filmes.csv', index=False)"
   ]
  }
 ],
 "metadata": {
  "kernelspec": {
   "display_name": "Python 3",
   "language": "python",
   "name": "python3"
  },
  "language_info": {
   "codemirror_mode": {
    "name": "ipython",
    "version": 3
   },
   "file_extension": ".py",
   "mimetype": "text/x-python",
   "name": "python",
   "nbconvert_exporter": "python",
   "pygments_lexer": "ipython3",
   "version": "3.8.3"
  },
  "toc": {
   "base_numbering": 1,
   "nav_menu": {},
   "number_sections": true,
   "sideBar": true,
   "skip_h1_title": false,
   "title_cell": "Table of Contents",
   "title_sidebar": "Contents",
   "toc_cell": false,
   "toc_position": {},
   "toc_section_display": true,
   "toc_window_display": false
  },
  "varInspector": {
   "cols": {
    "lenName": 16,
    "lenType": 16,
    "lenVar": 40
   },
   "kernels_config": {
    "python": {
     "delete_cmd_postfix": "",
     "delete_cmd_prefix": "del ",
     "library": "var_list.py",
     "varRefreshCmd": "print(var_dic_list())"
    },
    "r": {
     "delete_cmd_postfix": ") ",
     "delete_cmd_prefix": "rm(",
     "library": "var_list.r",
     "varRefreshCmd": "cat(var_dic_list()) "
    }
   },
   "types_to_exclude": [
    "module",
    "function",
    "builtin_function_or_method",
    "instance",
    "_Feature"
   ],
   "window_display": false
  }
 },
 "nbformat": 4,
 "nbformat_minor": 4
}
